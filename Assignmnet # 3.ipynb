{
 "cells": [
  {
   "cell_type": "code",
   "execution_count": 1,
   "metadata": {},
   "outputs": [
    {
     "name": "stdout",
     "output_type": "stream",
     "text": [
      "Select operation. \n",
      " 1.Add \n",
      " 2.Subtract \n",
      " 3.Multiply \n",
      " 4.Divide \n",
      " 5.power\n",
      "Enter choice(1/2/3/4/5): 4\n",
      "Enter first number: 15\n",
      "Enter second number: 7\n",
      "15 / 7 = 2.142857142857143\n"
     ]
    }
   ],
   "source": [
    "#Q1.Make a calculator using Python with addition , subtraction , multiplication ,division and power.?\n",
    "\n",
    "def add(x, y):\n",
    "   return x + y\n",
    "def subtract(x, y):\n",
    "   return x - y\n",
    "def multiply(x, y):\n",
    "   return x * y\n",
    "def divide(x, y):\n",
    "   return x / y\n",
    "def power(x, y):\n",
    "   return x ** y\n",
    "\n",
    "\n",
    "print(\"Select operation. \\n 1.Add \\n 2.Subtract \\n 3.Multiply \\n 4.Divide \\n 5.power\")\n",
    "\n",
    "choice = input(\"Enter choice(1/2/3/4/5): \")\n",
    "num1 = int(input(\"Enter first number: \"))\n",
    "num2 = int(input(\"Enter second number: \"))\n",
    "if choice == '1':\n",
    "   print(num1,\"+\",num2,\"=\", add(num1,num2))\n",
    "elif choice == '2':\n",
    "   print(num1,\"-\",num2,\"=\", subtract(num1,num2))\n",
    "elif choice == '3':\n",
    "   print(num1,\"*\",num2,\"=\", multiply(num1,num2))\n",
    "elif choice == '4':\n",
    "   print(num1,\"/\",num2,\"=\", divide(num1,num2))\n",
    "elif choice == '5':\n",
    "   print(num1,\"**\",num2,\"=\", divide(num1,num2))\n",
    "else:\n",
    "   print(\"Invalid input\")"
   ]
  },
  {
   "cell_type": "code",
   "execution_count": 2,
   "metadata": {},
   "outputs": [
    {
     "name": "stdout",
     "output_type": "stream",
     "text": [
      "Key 0 is a numaric value : 12.0\n",
      "Key 1 is a numaric value : 67.0\n",
      "Key 2 is Not a numaric value : osama\n",
      "Key 3 is a numaric value : 11.0\n"
     ]
    }
   ],
   "source": [
    "#Q2. Write a program to check if there is any numeric value in list using for loop\n",
    "\n",
    "List = {0:12,1:67,2:\"osama\",3:11}\n",
    "\n",
    "for x in List:\n",
    "    try:\n",
    "        float(List[x])\n",
    "        print(\"Key\",x,\"is a numaric value :\",float(List[x]))\n",
    "    except ValueError:\n",
    "        print(\"Key\",x,\"is Not a numaric value :\",List[x])\n",
    "        "
   ]
  },
  {
   "cell_type": "code",
   "execution_count": 3,
   "metadata": {},
   "outputs": [
    {
     "name": "stdout",
     "output_type": "stream",
     "text": [
      "{0: 25, 1: 20}\n",
      "update {0: 25, 1: 20, 2: 30}\n"
     ]
    }
   ],
   "source": [
    "#Q3.Write a Python script to add a key to a dictionary?\n",
    "\n",
    "ok = {0:25, 1:20}\n",
    "print(ok)\n",
    "ok.update({2:30})\n",
    "print(\"update\",ok)"
   ]
  },
  {
   "cell_type": "code",
   "execution_count": 4,
   "metadata": {},
   "outputs": [
    {
     "name": "stdout",
     "output_type": "stream",
     "text": [
      "300\n"
     ]
    }
   ],
   "source": [
    "#Q4.Write a Python program to sum all the numeric items in a dictionary?\n",
    "\n",
    "ok = {'ok':100, 'ahti':200}\n",
    "print(sum(ok.values()))"
   ]
  },
  {
   "cell_type": "code",
   "execution_count": 6,
   "metadata": {},
   "outputs": [
    {
     "name": "stdout",
     "output_type": "stream",
     "text": [
      "values 12 is Dublicate\n",
      "values 65 is Dublicate\n",
      "values 65 is Dublicate\n",
      "values 65 is Dublicate\n",
      "values 65 is Dublicate\n",
      "values 65 is Dublicate\n",
      "values 65 is Dublicate\n",
      "values 12 is Dublicate\n"
     ]
    }
   ],
   "source": [
    "#Q5.Write a program to identify duplicate values from list?\n",
    "\n",
    "oklist = {0:12, 1:65, 2:\"osama\", 3:65,4:65,5:12}\n",
    "for x in oklist:\n",
    "    check = oklist[x]\n",
    "    key = x\n",
    "    for z in oklist:\n",
    "        if(check == oklist[z] and key != z):\n",
    "            print(\"values\",oklist[z],\"is Dublicate\")"
   ]
  },
  {
   "cell_type": "code",
   "execution_count": 7,
   "metadata": {},
   "outputs": [
    {
     "name": "stdout",
     "output_type": "stream",
     "text": [
      "Enter key to check:a\n",
      "Key is present and value of the key is: 1\n"
     ]
    }
   ],
   "source": [
    "#Q6.Write a Python script to check if a given key already exists in a dictionary ?\n",
    "\n",
    "ok={'a':1,'b':2,'c':3}\n",
    "key=input(\"Enter key to check:\")\n",
    "if key in ok.keys():\n",
    "      print(\"Key is present and value of the key is:\",ok[key])\n",
    "else:\n",
    "      print(\"Key isn't present!\")"
   ]
  },
  {
   "cell_type": "code",
   "execution_count": null,
   "metadata": {},
   "outputs": [],
   "source": []
  }
 ],
 "metadata": {
  "kernelspec": {
   "display_name": "Python 3",
   "language": "python",
   "name": "python3"
  },
  "language_info": {
   "codemirror_mode": {
    "name": "ipython",
    "version": 3
   },
   "file_extension": ".py",
   "mimetype": "text/x-python",
   "name": "python",
   "nbconvert_exporter": "python",
   "pygments_lexer": "ipython3",
   "version": "3.7.4"
  }
 },
 "nbformat": 4,
 "nbformat_minor": 2
}
