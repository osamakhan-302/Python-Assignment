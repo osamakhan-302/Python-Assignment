{
 "cells": [
  {
   "cell_type": "code",
   "execution_count": 9,
   "metadata": {},
   "outputs": [
    {
     "name": "stdout",
     "output_type": "stream",
     "text": [
      "List Before Updated :  {'First_Name': 'Farhan', 'Last_Name': 'Aziz', 'Age': '25', 'City': 'Karachi'}\n",
      "List After Updated :  {'First_Name': 'Farhan', 'Last_Name': 'Aziz', 'Age': '25', 'City': 'Karachi', 'Qualification': 'High Academic Level'}\n",
      "List After Deleted :  {'First_Name': 'Farhan', 'Last_Name': 'Aziz', 'Age': '25', 'City': 'Karachi'}\n"
     ]
    }
   ],
   "source": [
    "#Question1:\n",
    "\n",
    "#Created List Of A Person\n",
    "Person = {'First_Name':'Farhan','Last_Name':'Aziz','Age':'25','City':'Karachi'}\n",
    "\n",
    "#Print List\n",
    "print(\"List Before Updated : \",Person)\n",
    "\n",
    "#Update Qualification in A Person List\n",
    "Person.update({'Qualification':'High Academic Level'})\n",
    "\n",
    "#Print Updated List\n",
    "print(\"List After Updated : \",Person)\n",
    "\n",
    "#Delete Qualification in A Person List\n",
    "Person.pop('Qualification')\n",
    "\n",
    "#Print List After Deleted\n",
    "print(\"List After Deleted : \",Person)\n"
   ]
  },
  {
   "cell_type": "code",
   "execution_count": 18,
   "metadata": {},
   "outputs": [
    {
     "name": "stdout",
     "output_type": "stream",
     "text": [
      "{'Karachi': {'City Of': 'Pakistan', 'Total Population': 14910352, 'Fact': 'It is the Sixth largest city in the world by city population'}, 'Mexico': {'City Of': 'North America', 'Total Population': 129200000, 'Fact': 'Covering almost 2,000,000 square kilometers 770,000 sq mi, the nation is the fifth largest country in the Americas'}, 'Tokyo': {'City Of': 'Japan', 'Total Population': 9273000, 'Fact': 'The Harajuku district in Tokyo is famous for its alternative street fashion.'}}\n"
     ]
    }
   ],
   "source": [
    "#Question2:\n",
    "\n",
    "#List Of Cities With Where they from total population and fact\n",
    "Cities = {'Karachi':{'City Of':'Pakistan','Total Population':14910352,'Fact':'It is the Sixth largest city in the world by city population'},\n",
    "          'Mexico':{'City Of':'North America','Total Population':129200000,'Fact':'Covering almost 2,000,000 square kilometers 770,000 sq mi, the nation is the fifth largest country in the Americas'},\n",
    "         'Tokyo':{'City Of':'Japan','Total Population':9273000,'Fact':'The Harajuku district in Tokyo is famous for its alternative street fashion.'}}\n",
    "\n",
    "print(Cities)"
   ]
  },
  {
   "cell_type": "code",
   "execution_count": 38,
   "metadata": {},
   "outputs": [
    {
     "name": "stdout",
     "output_type": "stream",
     "text": [
      "Please Enter The Age Of Ticket Buyer?\n",
      "3\n",
      "Ticket is $10\n",
      "Do You Want To Proceed? Y/N\n",
      "Y\n",
      "Do You Want To Add More? 1=> Yes 2=>No\n",
      "1\n",
      "Please Enter The Age Of Ticket Buyer?\n",
      "2\n",
      "Ticket is Free \n",
      "Do You Want To Add More? 1=> Yes 2=>No\n",
      "1\n",
      "Please Enter The Age Of Ticket Buyer?\n",
      "14\n",
      "Ticket is $15\n",
      "Do You Want To Proceed? Y/N\n",
      "Y\n",
      "Do You Want To Add More? 1=> Yes 2=>No\n",
      "2\n",
      "Total Bill is $ 25\n"
     ]
    }
   ],
   "source": [
    "#Question3:\n",
    "\n",
    "Count = 1\n",
    "confirm = \"Y\"\n",
    "Total = 0\n",
    "while Count == 1:\n",
    "    print(\"Please Enter The Age Of Ticket Buyer?\")\n",
    "    AGE = int(input())\n",
    "    \n",
    "    if AGE < 3:\n",
    "        print(\"Ticket is Free \")\n",
    "        \n",
    "    elif AGE >= 3 and AGE <= 12:\n",
    "        print(\"Ticket is $10\")\n",
    "        print(\"Do You Want To Proceed? Y/N\")\n",
    "        confirm = input()\n",
    "        if confirm == \"Y\":\n",
    "            Total += 10\n",
    "            \n",
    "    elif AGE > 12:\n",
    "        print(\"Ticket is $15\")\n",
    "        print(\"Do You Want To Proceed? Y/N\")\n",
    "        confirm = input()\n",
    "        if confirm == \"Y\":\n",
    "            Total += 15\n",
    "    print(\"Do You Want To Add More? 1=> Yes 2=>No\")\n",
    "    Count = int(input())\n",
    "print(\"Total Bill is $\",Total)\n",
    "        \n",
    "  "
   ]
  },
  {
   "cell_type": "code",
   "execution_count": 37,
   "metadata": {},
   "outputs": [
    {
     "name": "stdout",
     "output_type": "stream",
     "text": [
      "One of my favorite books is  Python\n"
     ]
    }
   ],
   "source": [
    "#Question4:\n",
    "def favorite_book(title):\n",
    "    print(\"One of my favorite books is \",title)\n",
    "    \n",
    "favorite_book(\"Python\")"
   ]
  },
  {
   "cell_type": "code",
   "execution_count": 51,
   "metadata": {},
   "outputs": [
    {
     "name": "stdout",
     "output_type": "stream",
     "text": [
      "Guess Your Input?\n",
      "5\n",
      "Value is Greater Then U Guessed!\n",
      "Guess Your Input?\n",
      "2\n",
      "Value is Greater Then U Guessed!\n",
      "Guess Your Input?\n",
      "30\n",
      "Value is Less Then U Guessed!\n"
     ]
    }
   ],
   "source": [
    "#Question5:\n",
    "\n",
    "from random import randint\n",
    "\n",
    "value = randint(0, 30)\n",
    "UserChance = 3\n",
    "\n",
    "while UserChance != 0:\n",
    "    print(\"Guess Your Input?\")\n",
    "    UserGuess = int(input())\n",
    "    \n",
    "    if value == UserGuess:\n",
    "        Print(\"Wow You Have Won\")\n",
    "        UserChance = 0\n",
    "    elif value < UserGuess:\n",
    "        print(\"Value is Less Then U Guessed!\")\n",
    "        UserChance -= 1\n",
    "    elif value > UserGuess:\n",
    "        print(\"Value is Greater Then U Guessed!\")\n",
    "        UserChance -= 1\n",
    "\n"
   ]
  },
  {
   "cell_type": "code",
   "execution_count": null,
   "metadata": {},
   "outputs": [],
   "source": []
  }
 ],
 "metadata": {
  "kernelspec": {
   "display_name": "Python 3",
   "language": "python",
   "name": "python3"
  },
  "language_info": {
   "codemirror_mode": {
    "name": "ipython",
    "version": 3
   },
   "file_extension": ".py",
   "mimetype": "text/x-python",
   "name": "python",
   "nbconvert_exporter": "python",
   "pygments_lexer": "ipython3",
   "version": "3.7.4"
  }
 },
 "nbformat": 4,
 "nbformat_minor": 2
}
