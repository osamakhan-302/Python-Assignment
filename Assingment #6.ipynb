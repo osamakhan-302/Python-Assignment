{
 "cells": [
  {
   "cell_type": "code",
   "execution_count": 1,
   "metadata": {},
   "outputs": [],
   "source": [
    "#Question 1\n",
    "\n",
    "#OOP language are the languages which supports all the OOP objects \n",
    "#and writes its program using objects and classes. \n",
    "\n"
   ]
  },
  {
   "cell_type": "code",
   "execution_count": 2,
   "metadata": {},
   "outputs": [],
   "source": [
    "#Question 2\n",
    "\n",
    "#1.Code Reusability. \n",
    "#2.Memory management\n",
    "#3.privacy\n",
    "#4.code hiding, \n",
    "#5.state management\n",
    "#6.aggregation\n"
   ]
  },
  {
   "cell_type": "code",
   "execution_count": 3,
   "metadata": {},
   "outputs": [],
   "source": [
    "#Question 3\n",
    "\n",
    "#Function is a block of code which can be parameterized and non-parameterized and can be call by its name \n",
    "#while method is a function which is associated with an object.\n",
    "#Method use members of classes, function is independent."
   ]
  },
  {
   "cell_type": "code",
   "execution_count": 4,
   "metadata": {},
   "outputs": [],
   "source": [
    "#Question 4\n",
    "\n",
    "#Class: Class is a blueprint of an object.\n",
    "#Object: Object is an instense of a class\n",
    "#Attribute: Attribute is the state of object simplified variable which are decleared in class\n",
    "#Behavior: Behavior is the functionallity of an object simplified functions which are written in an class\n"
   ]
  },
  {
   "cell_type": "code",
   "execution_count": 5,
   "metadata": {},
   "outputs": [
    {
     "name": "stdout",
     "output_type": "stream",
     "text": [
      "Print Object :\n",
      "The Name of car is : superstar\n",
      "The Model of car is : 2016\n",
      "The Color of car is : black\n",
      "The Capicity of car is : 70cc\n",
      "The Manufuncture of car is : Super Star\n",
      "Change Engine :\n",
      "Your Engine is Changed To 150cc\n",
      "Change Color :\n",
      "Your Car New Color is : Red\n"
     ]
    }
   ],
   "source": [
    "#Question 5\n",
    "\n",
    "class Car():\n",
    "    \n",
    "    model=''\n",
    "    \n",
    "    def __init__(self,model,name,color,engine,manufuncture):\n",
    "        self.model = model\n",
    "        self.name = name\n",
    "        self.color = color\n",
    "        self.engine = engine\n",
    "        self.manufuncture = manufuncture\n",
    "        \n",
    "    def recolor(self,newcolor):\n",
    "        self.color = newcolor\n",
    "        print(\"Your Car New Color is :\",newcolor)\n",
    "        \n",
    "    def info(self):\n",
    "        print(\"The Name of car is :\", self.name)\n",
    "        print(\"The Model of car is :\", self.model)\n",
    "        print(\"The Color of car is :\" ,self.color)\n",
    "        print(\"The Capicity of car is :\", self.engine)\n",
    "        print(\"The Manufuncture of car is :\", self.manufuncture)\n",
    "        \n",
    "    def modification(self,newmodification):\n",
    "        self.engine = newmodification\n",
    "        print(\"Your Engine is Changed To\",self.engine)\n",
    "        \n",
    "#declearing Object\n",
    "        \n",
    "NewCar = Car('2016','superstar','black','70cc','Super Star')\n",
    "\n",
    "print('Print Object :')\n",
    "NewCar.info()\n",
    "\n",
    "print('Change Engine :')\n",
    "NewCar.modification('150cc')\n",
    "\n",
    "print('Change Color :')\n",
    "NewCar.recolor('Red')\n",
    "        \n",
    "    "
   ]
  },
  {
   "cell_type": "code",
   "execution_count": null,
   "metadata": {},
   "outputs": [],
   "source": []
  }
 ],
 "metadata": {
  "kernelspec": {
   "display_name": "Python 3",
   "language": "python",
   "name": "python3"
  },
  "language_info": {
   "codemirror_mode": {
    "name": "ipython",
    "version": 3
   },
   "file_extension": ".py",
   "mimetype": "text/x-python",
   "name": "python",
   "nbconvert_exporter": "python",
   "pygments_lexer": "ipython3",
   "version": "3.7.4"
  }
 },
 "nbformat": 4,
 "nbformat_minor": 2
}
