{
 "cells": [
  {
   "cell_type": "code",
   "execution_count": 17,
   "metadata": {},
   "outputs": [
    {
     "name": "stdout",
     "output_type": "stream",
     "text": [
      "Twinkle, twinkle, little star,\n",
      "\t How I wonder what you are! \n",
      "\t\t Up above the world so high, \n",
      "\t\t Like a diamond in the sky, \n",
      "Twinkle twinkle, little star,\n",
      "\t How I wonder what you are,\n"
     ]
    }
   ],
   "source": [
    "ok = \"Twinkle, twinkle, little star,\\n\\t How I wonder what you are! \\n\\t\\t Up above the world so high, \\n\\t\\t Like a diamond in the sky, \\nTwinkle twinkle, little star,\\n\\t How I wonder what you are,\"\n",
    "print(ok)"
   ]
  },
  {
   "cell_type": "code",
   "execution_count": 18,
   "metadata": {},
   "outputs": [
    {
     "name": "stdout",
     "output_type": "stream",
     "text": [
      "Python version\n",
      "3.7.4 (default, Aug  9 2019, 18:34:13) [MSC v.1915 64 bit (AMD64)]\n"
     ]
    }
   ],
   "source": [
    "import sys\n",
    "print(\"Python version\")\n",
    "print (sys.version)"
   ]
  },
  {
   "cell_type": "code",
   "execution_count": 19,
   "metadata": {},
   "outputs": [
    {
     "name": "stdout",
     "output_type": "stream",
     "text": [
      "2019-11-02 23:18:16.300860\n"
     ]
    }
   ],
   "source": [
    "import datetime\n",
    " \n",
    "okDT = datetime.datetime.now()\n",
    "print (str(okDT))"
   ]
  },
  {
   "cell_type": "code",
   "execution_count": 20,
   "metadata": {},
   "outputs": [
    {
     "name": "stdout",
     "output_type": "stream",
     "text": [
      "Radius Of The Circle : 2\n",
      "Circle With Radius 2.0 is: 12.566370614359172\n"
     ]
    }
   ],
   "source": [
    "from math import pi\n",
    "ok = float(input (\"Radius Of The Circle : \"))\n",
    "print (\"Circle With Radius \" + str(ok) + \" is: \" + str(pi * ok**2))"
   ]
  },
  {
   "cell_type": "code",
   "execution_count": 21,
   "metadata": {},
   "outputs": [
    {
     "name": "stdout",
     "output_type": "stream",
     "text": [
      "first name Osama\n",
      "last name Waseem\n",
      "Waseem  Osama\n"
     ]
    }
   ],
   "source": [
    "a = input(\"first name \")\n",
    "b = input (\"last name \")\n",
    "\n",
    "print (b,\"\",a)"
   ]
  },
  {
   "cell_type": "code",
   "execution_count": 22,
   "metadata": {},
   "outputs": [
    {
     "name": "stdout",
     "output_type": "stream",
     "text": [
      "Enter first Number: 5\n",
      "Enter second Number: 5\n",
      "10\n"
     ]
    }
   ],
   "source": [
    "a = int(input(\"Enter first Number: \"))\n",
    "b = int(input(\"Enter second Number: \"))\n",
    "ok = a + b\n",
    "print (ok)"
   ]
  },
  {
   "cell_type": "code",
   "execution_count": null,
   "metadata": {},
   "outputs": [],
   "source": []
  }
 ],
 "metadata": {
  "kernelspec": {
   "display_name": "Python 3",
   "language": "python",
   "name": "python3"
  },
  "language_info": {
   "codemirror_mode": {
    "name": "ipython",
    "version": 3
   },
   "file_extension": ".py",
   "mimetype": "text/x-python",
   "name": "python",
   "nbconvert_exporter": "python",
   "pygments_lexer": "ipython3",
   "version": "3.7.4"
  }
 },
 "nbformat": 4,
 "nbformat_minor": 2
}
